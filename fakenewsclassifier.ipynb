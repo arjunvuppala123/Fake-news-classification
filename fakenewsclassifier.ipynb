{
 "cells": [
  {
   "cell_type": "code",
   "execution_count": 25,
   "id": "96ef059f",
   "metadata": {},
   "outputs": [],
   "source": [
    "import numpy as np\n",
    "import pandas as pd\n",
    "from sklearn import preprocessing\n",
    "from sklearn.feature_extraction.text import CountVectorizer, TfidfVectorizer\n",
    "from sklearn.model_selection import train_test_split, KFold\n",
    "from nltk.corpus import stopwords\n",
    "from nltk.stem.snowball import SnowballStemmer\n",
    "import matplotlib\n",
    "from matplotlib import pyplot as plt\n",
    "# import seaborn as sns\n",
    "%matplotlib inline\n",
    "%config InlineBackend.figure_format = 'retina'\n",
    "import string"
   ]
  },
  {
   "cell_type": "code",
   "execution_count": 2,
   "id": "d52b7b50",
   "metadata": {},
   "outputs": [],
   "source": [
    "train_df = pd.read_csv(\"data/train.csv\")\n",
    "test_df = pd.read_csv(\"data/test.csv\")"
   ]
  },
  {
   "cell_type": "code",
   "execution_count": 3,
   "id": "6ea0622a",
   "metadata": {},
   "outputs": [
    {
     "data": {
      "text/html": [
       "<div>\n",
       "<style scoped>\n",
       "    .dataframe tbody tr th:only-of-type {\n",
       "        vertical-align: middle;\n",
       "    }\n",
       "\n",
       "    .dataframe tbody tr th {\n",
       "        vertical-align: top;\n",
       "    }\n",
       "\n",
       "    .dataframe thead th {\n",
       "        text-align: right;\n",
       "    }\n",
       "</style>\n",
       "<table border=\"1\" class=\"dataframe\">\n",
       "  <thead>\n",
       "    <tr style=\"text-align: right;\">\n",
       "      <th></th>\n",
       "      <th>index</th>\n",
       "      <th>title</th>\n",
       "      <th>text</th>\n",
       "      <th>subject</th>\n",
       "      <th>date</th>\n",
       "      <th>class</th>\n",
       "      <th>Unnamed: 6</th>\n",
       "    </tr>\n",
       "  </thead>\n",
       "  <tbody>\n",
       "    <tr>\n",
       "      <th>0</th>\n",
       "      <td>0</td>\n",
       "      <td>PRESIDENT TRUMP Explains New “America First” R...</td>\n",
       "      <td>That s what we re talking about! Another campa...</td>\n",
       "      <td>politics</td>\n",
       "      <td>Aug 2, 2017</td>\n",
       "      <td>Fake</td>\n",
       "      <td>NaN</td>\n",
       "    </tr>\n",
       "    <tr>\n",
       "      <th>1</th>\n",
       "      <td>1</td>\n",
       "      <td>TERMINALLY ILL FORMER MISS WI: “Until my last ...</td>\n",
       "      <td>How is it that Sean Hannity is the only media ...</td>\n",
       "      <td>politics</td>\n",
       "      <td>Oct 4, 2016</td>\n",
       "      <td>Fake</td>\n",
       "      <td>NaN</td>\n",
       "    </tr>\n",
       "    <tr>\n",
       "      <th>2</th>\n",
       "      <td>2</td>\n",
       "      <td>Cruz Humiliated By Moderator After Lie About ...</td>\n",
       "      <td>Almost immediately after learning that longtim...</td>\n",
       "      <td>News</td>\n",
       "      <td>February 13, 2016</td>\n",
       "      <td>Fake</td>\n",
       "      <td>NaN</td>\n",
       "    </tr>\n",
       "    <tr>\n",
       "      <th>3</th>\n",
       "      <td>3</td>\n",
       "      <td>Russia revels in Trump victory, looks to sanct...</td>\n",
       "      <td>MOSCOW (Reuters) - For all their mutual praise...</td>\n",
       "      <td>politicsNews</td>\n",
       "      <td>November 9, 2016</td>\n",
       "      <td>Real</td>\n",
       "      <td>NaN</td>\n",
       "    </tr>\n",
       "    <tr>\n",
       "      <th>4</th>\n",
       "      <td>4</td>\n",
       "      <td>Trump's bid to open U.S. monuments to developm...</td>\n",
       "      <td>WASHINGTON (Reuters) - The Trump administratio...</td>\n",
       "      <td>politicsNews</td>\n",
       "      <td>May 26, 2017</td>\n",
       "      <td>Real</td>\n",
       "      <td>NaN</td>\n",
       "    </tr>\n",
       "  </tbody>\n",
       "</table>\n",
       "</div>"
      ],
      "text/plain": [
       "   index                                              title  \\\n",
       "0      0  PRESIDENT TRUMP Explains New “America First” R...   \n",
       "1      1  TERMINALLY ILL FORMER MISS WI: “Until my last ...   \n",
       "2      2   Cruz Humiliated By Moderator After Lie About ...   \n",
       "3      3  Russia revels in Trump victory, looks to sanct...   \n",
       "4      4  Trump's bid to open U.S. monuments to developm...   \n",
       "\n",
       "                                                text       subject  \\\n",
       "0  That s what we re talking about! Another campa...      politics   \n",
       "1  How is it that Sean Hannity is the only media ...      politics   \n",
       "2  Almost immediately after learning that longtim...          News   \n",
       "3  MOSCOW (Reuters) - For all their mutual praise...  politicsNews   \n",
       "4  WASHINGTON (Reuters) - The Trump administratio...  politicsNews   \n",
       "\n",
       "                date class Unnamed: 6  \n",
       "0        Aug 2, 2017  Fake        NaN  \n",
       "1        Oct 4, 2016  Fake        NaN  \n",
       "2  February 13, 2016  Fake        NaN  \n",
       "3  November 9, 2016   Real        NaN  \n",
       "4      May 26, 2017   Real        NaN  "
      ]
     },
     "execution_count": 3,
     "metadata": {},
     "output_type": "execute_result"
    }
   ],
   "source": [
    "train_df.head()"
   ]
  },
  {
   "cell_type": "code",
   "execution_count": 5,
   "id": "e82cdc88",
   "metadata": {},
   "outputs": [
    {
     "data": {
      "text/plain": [
       "(40000, 7)"
      ]
     },
     "execution_count": 5,
     "metadata": {},
     "output_type": "execute_result"
    }
   ],
   "source": [
    "train_df.shape"
   ]
  },
  {
   "cell_type": "code",
   "execution_count": 10,
   "id": "3ae19143",
   "metadata": {},
   "outputs": [],
   "source": [
    "Fake_len = train_df[train_df['class'] == 'Fake'].shape[0]\n",
    "Real_len = train_df[train_df['class'] == 'Real'].shape[0]"
   ]
  },
  {
   "cell_type": "code",
   "execution_count": 11,
   "id": "f5598964",
   "metadata": {},
   "outputs": [
    {
     "data": {
      "text/plain": [
       "20886"
      ]
     },
     "execution_count": 11,
     "metadata": {},
     "output_type": "execute_result"
    }
   ],
   "source": [
    "Fake_len"
   ]
  },
  {
   "cell_type": "code",
   "execution_count": 12,
   "id": "dea868e1",
   "metadata": {},
   "outputs": [
    {
     "data": {
      "text/plain": [
       "19113"
      ]
     },
     "execution_count": 12,
     "metadata": {},
     "output_type": "execute_result"
    }
   ],
   "source": [
    "Real_len"
   ]
  },
  {
   "cell_type": "code",
   "execution_count": 13,
   "id": "32201083",
   "metadata": {},
   "outputs": [
    {
     "data": {
      "image/png": "[encoded data removed]",
      "text/plain": [
       "<Figure size 432x288 with 1 Axes>"
      ]
     },
     "metadata": {
      "image/png": {
       "height": 263,
       "width": 401
      },
      "needs_background": "light"
     },
     "output_type": "display_data"
    }
   ],
   "source": [
    "plt.bar(10,Fake_len,3, label=\"Fake\")\n",
    "plt.bar(15,Real_len,3, label=\"Real\")\n",
    "plt.legend()\n",
    "plt.ylabel('Number of examples')\n",
    "plt.title('Propoertion of examples')\n",
    "plt.show()"
   ]
  },
  {
   "cell_type": "code",
   "execution_count": 16,
   "id": "0dfd7d37",
   "metadata": {},
   "outputs": [],
   "source": [
    "train_df = train_df.drop(['Unnamed: 6'], axis = 1)"
   ]
  },
  {
   "cell_type": "code",
   "execution_count": 17,
   "id": "46405a14",
   "metadata": {},
   "outputs": [
    {
     "data": {
      "text/html": [
       "<div>\n",
       "<style scoped>\n",
       "    .dataframe tbody tr th:only-of-type {\n",
       "        vertical-align: middle;\n",
       "    }\n",
       "\n",
       "    .dataframe tbody tr th {\n",
       "        vertical-align: top;\n",
       "    }\n",
       "\n",
       "    .dataframe thead th {\n",
       "        text-align: right;\n",
       "    }\n",
       "</style>\n",
       "<table border=\"1\" class=\"dataframe\">\n",
       "  <thead>\n",
       "    <tr style=\"text-align: right;\">\n",
       "      <th></th>\n",
       "      <th>index</th>\n",
       "      <th>title</th>\n",
       "      <th>text</th>\n",
       "      <th>subject</th>\n",
       "      <th>date</th>\n",
       "      <th>class</th>\n",
       "    </tr>\n",
       "  </thead>\n",
       "  <tbody>\n",
       "    <tr>\n",
       "      <th>0</th>\n",
       "      <td>0</td>\n",
       "      <td>PRESIDENT TRUMP Explains New “America First” R...</td>\n",
       "      <td>That s what we re talking about! Another campa...</td>\n",
       "      <td>politics</td>\n",
       "      <td>Aug 2, 2017</td>\n",
       "      <td>Fake</td>\n",
       "    </tr>\n",
       "    <tr>\n",
       "      <th>1</th>\n",
       "      <td>1</td>\n",
       "      <td>TERMINALLY ILL FORMER MISS WI: “Until my last ...</td>\n",
       "      <td>How is it that Sean Hannity is the only media ...</td>\n",
       "      <td>politics</td>\n",
       "      <td>Oct 4, 2016</td>\n",
       "      <td>Fake</td>\n",
       "    </tr>\n",
       "    <tr>\n",
       "      <th>2</th>\n",
       "      <td>2</td>\n",
       "      <td>Cruz Humiliated By Moderator After Lie About ...</td>\n",
       "      <td>Almost immediately after learning that longtim...</td>\n",
       "      <td>News</td>\n",
       "      <td>February 13, 2016</td>\n",
       "      <td>Fake</td>\n",
       "    </tr>\n",
       "    <tr>\n",
       "      <th>3</th>\n",
       "      <td>3</td>\n",
       "      <td>Russia revels in Trump victory, looks to sanct...</td>\n",
       "      <td>MOSCOW (Reuters) - For all their mutual praise...</td>\n",
       "      <td>politicsNews</td>\n",
       "      <td>November 9, 2016</td>\n",
       "      <td>Real</td>\n",
       "    </tr>\n",
       "    <tr>\n",
       "      <th>4</th>\n",
       "      <td>4</td>\n",
       "      <td>Trump's bid to open U.S. monuments to developm...</td>\n",
       "      <td>WASHINGTON (Reuters) - The Trump administratio...</td>\n",
       "      <td>politicsNews</td>\n",
       "      <td>May 26, 2017</td>\n",
       "      <td>Real</td>\n",
       "    </tr>\n",
       "    <tr>\n",
       "      <th>...</th>\n",
       "      <td>...</td>\n",
       "      <td>...</td>\n",
       "      <td>...</td>\n",
       "      <td>...</td>\n",
       "      <td>...</td>\n",
       "      <td>...</td>\n",
       "    </tr>\n",
       "    <tr>\n",
       "      <th>39995</th>\n",
       "      <td>39995</td>\n",
       "      <td>U.S. officials step up rhetoric on Russia link...</td>\n",
       "      <td>(Reuters) - Republican vice presidential candi...</td>\n",
       "      <td>politicsNews</td>\n",
       "      <td>October 16, 2016</td>\n",
       "      <td>Real</td>\n",
       "    </tr>\n",
       "    <tr>\n",
       "      <th>39996</th>\n",
       "      <td>39996</td>\n",
       "      <td>McDonald’s Manager To Hispanic Customer: ‘Can...</td>\n",
       "      <td>An employee working at a North Carolina McDona...</td>\n",
       "      <td>News</td>\n",
       "      <td>September 13, 2017</td>\n",
       "      <td>Fake</td>\n",
       "    </tr>\n",
       "    <tr>\n",
       "      <th>39997</th>\n",
       "      <td>39997</td>\n",
       "      <td>SMUG LIBERAL LAW PROFESSOR SHUT DOWN BY TUCKER...</td>\n",
       "      <td>Tucker to sanctuary city supporter: how did a ...</td>\n",
       "      <td>politics</td>\n",
       "      <td>Mar 29, 2017</td>\n",
       "      <td>Fake</td>\n",
       "    </tr>\n",
       "    <tr>\n",
       "      <th>39998</th>\n",
       "      <td>39998</td>\n",
       "      <td>Robert Parry: Sorting Out the Russia Mess</td>\n",
       "      <td>Consortium News Exclusive: The U.S. mainstream...</td>\n",
       "      <td>US_News</td>\n",
       "      <td>October 31, 2017</td>\n",
       "      <td>Fake</td>\n",
       "    </tr>\n",
       "    <tr>\n",
       "      <th>39999</th>\n",
       "      <td>39999</td>\n",
       "      <td>Israeli missiles hit military post near Damasc...</td>\n",
       "      <td>BEIRUT (Reuters) - Israeli missiles struck a m...</td>\n",
       "      <td>worldnews</td>\n",
       "      <td>December 2, 2017</td>\n",
       "      <td>Real</td>\n",
       "    </tr>\n",
       "  </tbody>\n",
       "</table>\n",
       "<p>40000 rows × 6 columns</p>\n",
       "</div>"
      ],
      "text/plain": [
       "       index                                              title  \\\n",
       "0          0  PRESIDENT TRUMP Explains New “America First” R...   \n",
       "1          1  TERMINALLY ILL FORMER MISS WI: “Until my last ...   \n",
       "2          2   Cruz Humiliated By Moderator After Lie About ...   \n",
       "3          3  Russia revels in Trump victory, looks to sanct...   \n",
       "4          4  Trump's bid to open U.S. monuments to developm...   \n",
       "...      ...                                                ...   \n",
       "39995  39995  U.S. officials step up rhetoric on Russia link...   \n",
       "39996  39996   McDonald’s Manager To Hispanic Customer: ‘Can...   \n",
       "39997  39997  SMUG LIBERAL LAW PROFESSOR SHUT DOWN BY TUCKER...   \n",
       "39998  39998          Robert Parry: Sorting Out the Russia Mess   \n",
       "39999  39999  Israeli missiles hit military post near Damasc...   \n",
       "\n",
       "                                                    text       subject  \\\n",
       "0      That s what we re talking about! Another campa...      politics   \n",
       "1      How is it that Sean Hannity is the only media ...      politics   \n",
       "2      Almost immediately after learning that longtim...          News   \n",
       "3      MOSCOW (Reuters) - For all their mutual praise...  politicsNews   \n",
       "4      WASHINGTON (Reuters) - The Trump administratio...  politicsNews   \n",
       "...                                                  ...           ...   \n",
       "39995  (Reuters) - Republican vice presidential candi...  politicsNews   \n",
       "39996  An employee working at a North Carolina McDona...          News   \n",
       "39997  Tucker to sanctuary city supporter: how did a ...      politics   \n",
       "39998  Consortium News Exclusive: The U.S. mainstream...       US_News   \n",
       "39999  BEIRUT (Reuters) - Israeli missiles struck a m...     worldnews   \n",
       "\n",
       "                     date class  \n",
       "0             Aug 2, 2017  Fake  \n",
       "1             Oct 4, 2016  Fake  \n",
       "2       February 13, 2016  Fake  \n",
       "3       November 9, 2016   Real  \n",
       "4           May 26, 2017   Real  \n",
       "...                   ...   ...  \n",
       "39995   October 16, 2016   Real  \n",
       "39996  September 13, 2017  Fake  \n",
       "39997        Mar 29, 2017  Fake  \n",
       "39998    October 31, 2017  Fake  \n",
       "39999   December 2, 2017   Real  \n",
       "\n",
       "[40000 rows x 6 columns]"
      ]
     },
     "execution_count": 17,
     "metadata": {},
     "output_type": "execute_result"
    }
   ],
   "source": [
    "train_df"
   ]
  },
  {
   "cell_type": "code",
   "execution_count": 18,
   "id": "de25fe1e",
   "metadata": {},
   "outputs": [],
   "source": [
    "train_df = train_df.drop(['subject','date'], axis = 1)"
   ]
  },
  {
   "cell_type": "code",
   "execution_count": 19,
   "id": "990f9a35",
   "metadata": {},
   "outputs": [
    {
     "data": {
      "text/html": [
       "<div>\n",
       "<style scoped>\n",
       "    .dataframe tbody tr th:only-of-type {\n",
       "        vertical-align: middle;\n",
       "    }\n",
       "\n",
       "    .dataframe tbody tr th {\n",
       "        vertical-align: top;\n",
       "    }\n",
       "\n",
       "    .dataframe thead th {\n",
       "        text-align: right;\n",
       "    }\n",
       "</style>\n",
       "<table border=\"1\" class=\"dataframe\">\n",
       "  <thead>\n",
       "    <tr style=\"text-align: right;\">\n",
       "      <th></th>\n",
       "      <th>index</th>\n",
       "      <th>title</th>\n",
       "      <th>text</th>\n",
       "      <th>class</th>\n",
       "    </tr>\n",
       "  </thead>\n",
       "  <tbody>\n",
       "    <tr>\n",
       "      <th>0</th>\n",
       "      <td>0</td>\n",
       "      <td>PRESIDENT TRUMP Explains New “America First” R...</td>\n",
       "      <td>That s what we re talking about! Another campa...</td>\n",
       "      <td>Fake</td>\n",
       "    </tr>\n",
       "    <tr>\n",
       "      <th>1</th>\n",
       "      <td>1</td>\n",
       "      <td>TERMINALLY ILL FORMER MISS WI: “Until my last ...</td>\n",
       "      <td>How is it that Sean Hannity is the only media ...</td>\n",
       "      <td>Fake</td>\n",
       "    </tr>\n",
       "    <tr>\n",
       "      <th>2</th>\n",
       "      <td>2</td>\n",
       "      <td>Cruz Humiliated By Moderator After Lie About ...</td>\n",
       "      <td>Almost immediately after learning that longtim...</td>\n",
       "      <td>Fake</td>\n",
       "    </tr>\n",
       "    <tr>\n",
       "      <th>3</th>\n",
       "      <td>3</td>\n",
       "      <td>Russia revels in Trump victory, looks to sanct...</td>\n",
       "      <td>MOSCOW (Reuters) - For all their mutual praise...</td>\n",
       "      <td>Real</td>\n",
       "    </tr>\n",
       "    <tr>\n",
       "      <th>4</th>\n",
       "      <td>4</td>\n",
       "      <td>Trump's bid to open U.S. monuments to developm...</td>\n",
       "      <td>WASHINGTON (Reuters) - The Trump administratio...</td>\n",
       "      <td>Real</td>\n",
       "    </tr>\n",
       "  </tbody>\n",
       "</table>\n",
       "</div>"
      ],
      "text/plain": [
       "   index                                              title  \\\n",
       "0      0  PRESIDENT TRUMP Explains New “America First” R...   \n",
       "1      1  TERMINALLY ILL FORMER MISS WI: “Until my last ...   \n",
       "2      2   Cruz Humiliated By Moderator After Lie About ...   \n",
       "3      3  Russia revels in Trump victory, looks to sanct...   \n",
       "4      4  Trump's bid to open U.S. monuments to developm...   \n",
       "\n",
       "                                                text class  \n",
       "0  That s what we re talking about! Another campa...  Fake  \n",
       "1  How is it that Sean Hannity is the only media ...  Fake  \n",
       "2  Almost immediately after learning that longtim...  Fake  \n",
       "3  MOSCOW (Reuters) - For all their mutual praise...  Real  \n",
       "4  WASHINGTON (Reuters) - The Trump administratio...  Real  "
      ]
     },
     "execution_count": 19,
     "metadata": {},
     "output_type": "execute_result"
    }
   ],
   "source": [
    "train_df.head()"
   ]
  },
  {
   "cell_type": "code",
   "execution_count": 21,
   "id": "f83c0fbf",
   "metadata": {},
   "outputs": [],
   "source": [
    "train_df = train_df.drop(['text'], axis = 1)"
   ]
  },
  {
   "cell_type": "code",
   "execution_count": 22,
   "id": "1523a655",
   "metadata": {},
   "outputs": [
    {
     "data": {
      "text/html": [
       "<div>\n",
       "<style scoped>\n",
       "    .dataframe tbody tr th:only-of-type {\n",
       "        vertical-align: middle;\n",
       "    }\n",
       "\n",
       "    .dataframe tbody tr th {\n",
       "        vertical-align: top;\n",
       "    }\n",
       "\n",
       "    .dataframe thead th {\n",
       "        text-align: right;\n",
       "    }\n",
       "</style>\n",
       "<table border=\"1\" class=\"dataframe\">\n",
       "  <thead>\n",
       "    <tr style=\"text-align: right;\">\n",
       "      <th></th>\n",
       "      <th>index</th>\n",
       "      <th>title</th>\n",
       "      <th>class</th>\n",
       "    </tr>\n",
       "  </thead>\n",
       "  <tbody>\n",
       "    <tr>\n",
       "      <th>0</th>\n",
       "      <td>0</td>\n",
       "      <td>PRESIDENT TRUMP Explains New “America First” R...</td>\n",
       "      <td>Fake</td>\n",
       "    </tr>\n",
       "    <tr>\n",
       "      <th>1</th>\n",
       "      <td>1</td>\n",
       "      <td>TERMINALLY ILL FORMER MISS WI: “Until my last ...</td>\n",
       "      <td>Fake</td>\n",
       "    </tr>\n",
       "    <tr>\n",
       "      <th>2</th>\n",
       "      <td>2</td>\n",
       "      <td>Cruz Humiliated By Moderator After Lie About ...</td>\n",
       "      <td>Fake</td>\n",
       "    </tr>\n",
       "    <tr>\n",
       "      <th>3</th>\n",
       "      <td>3</td>\n",
       "      <td>Russia revels in Trump victory, looks to sanct...</td>\n",
       "      <td>Real</td>\n",
       "    </tr>\n",
       "    <tr>\n",
       "      <th>4</th>\n",
       "      <td>4</td>\n",
       "      <td>Trump's bid to open U.S. monuments to developm...</td>\n",
       "      <td>Real</td>\n",
       "    </tr>\n",
       "    <tr>\n",
       "      <th>...</th>\n",
       "      <td>...</td>\n",
       "      <td>...</td>\n",
       "      <td>...</td>\n",
       "    </tr>\n",
       "    <tr>\n",
       "      <th>39995</th>\n",
       "      <td>39995</td>\n",
       "      <td>U.S. officials step up rhetoric on Russia link...</td>\n",
       "      <td>Real</td>\n",
       "    </tr>\n",
       "    <tr>\n",
       "      <th>39996</th>\n",
       "      <td>39996</td>\n",
       "      <td>McDonald’s Manager To Hispanic Customer: ‘Can...</td>\n",
       "      <td>Fake</td>\n",
       "    </tr>\n",
       "    <tr>\n",
       "      <th>39997</th>\n",
       "      <td>39997</td>\n",
       "      <td>SMUG LIBERAL LAW PROFESSOR SHUT DOWN BY TUCKER...</td>\n",
       "      <td>Fake</td>\n",
       "    </tr>\n",
       "    <tr>\n",
       "      <th>39998</th>\n",
       "      <td>39998</td>\n",
       "      <td>Robert Parry: Sorting Out the Russia Mess</td>\n",
       "      <td>Fake</td>\n",
       "    </tr>\n",
       "    <tr>\n",
       "      <th>39999</th>\n",
       "      <td>39999</td>\n",
       "      <td>Israeli missiles hit military post near Damasc...</td>\n",
       "      <td>Real</td>\n",
       "    </tr>\n",
       "  </tbody>\n",
       "</table>\n",
       "<p>40000 rows × 3 columns</p>\n",
       "</div>"
      ],
      "text/plain": [
       "       index                                              title class\n",
       "0          0  PRESIDENT TRUMP Explains New “America First” R...  Fake\n",
       "1          1  TERMINALLY ILL FORMER MISS WI: “Until my last ...  Fake\n",
       "2          2   Cruz Humiliated By Moderator After Lie About ...  Fake\n",
       "3          3  Russia revels in Trump victory, looks to sanct...  Real\n",
       "4          4  Trump's bid to open U.S. monuments to developm...  Real\n",
       "...      ...                                                ...   ...\n",
       "39995  39995  U.S. officials step up rhetoric on Russia link...  Real\n",
       "39996  39996   McDonald’s Manager To Hispanic Customer: ‘Can...  Fake\n",
       "39997  39997  SMUG LIBERAL LAW PROFESSOR SHUT DOWN BY TUCKER...  Fake\n",
       "39998  39998          Robert Parry: Sorting Out the Russia Mess  Fake\n",
       "39999  39999  Israeli missiles hit military post near Damasc...  Real\n",
       "\n",
       "[40000 rows x 3 columns]"
      ]
     },
     "execution_count": 22,
     "metadata": {},
     "output_type": "execute_result"
    }
   ],
   "source": [
    "train_df"
   ]
  },
  {
   "cell_type": "code",
   "execution_count": 23,
   "id": "9dbe3a88",
   "metadata": {},
   "outputs": [],
   "source": [
    "train_df = train_df.drop(['index'], axis = 1)"
   ]
  },
  {
   "cell_type": "code",
   "execution_count": 24,
   "id": "0fd3c3ca",
   "metadata": {},
   "outputs": [
    {
     "data": {
      "text/html": [
       "<div>\n",
       "<style scoped>\n",
       "    .dataframe tbody tr th:only-of-type {\n",
       "        vertical-align: middle;\n",
       "    }\n",
       "\n",
       "    .dataframe tbody tr th {\n",
       "        vertical-align: top;\n",
       "    }\n",
       "\n",
       "    .dataframe thead th {\n",
       "        text-align: right;\n",
       "    }\n",
       "</style>\n",
       "<table border=\"1\" class=\"dataframe\">\n",
       "  <thead>\n",
       "    <tr style=\"text-align: right;\">\n",
       "      <th></th>\n",
       "      <th>title</th>\n",
       "      <th>class</th>\n",
       "    </tr>\n",
       "  </thead>\n",
       "  <tbody>\n",
       "    <tr>\n",
       "      <th>0</th>\n",
       "      <td>PRESIDENT TRUMP Explains New “America First” R...</td>\n",
       "      <td>Fake</td>\n",
       "    </tr>\n",
       "    <tr>\n",
       "      <th>1</th>\n",
       "      <td>TERMINALLY ILL FORMER MISS WI: “Until my last ...</td>\n",
       "      <td>Fake</td>\n",
       "    </tr>\n",
       "    <tr>\n",
       "      <th>2</th>\n",
       "      <td>Cruz Humiliated By Moderator After Lie About ...</td>\n",
       "      <td>Fake</td>\n",
       "    </tr>\n",
       "    <tr>\n",
       "      <th>3</th>\n",
       "      <td>Russia revels in Trump victory, looks to sanct...</td>\n",
       "      <td>Real</td>\n",
       "    </tr>\n",
       "    <tr>\n",
       "      <th>4</th>\n",
       "      <td>Trump's bid to open U.S. monuments to developm...</td>\n",
       "      <td>Real</td>\n",
       "    </tr>\n",
       "  </tbody>\n",
       "</table>\n",
       "</div>"
      ],
      "text/plain": [
       "                                               title class\n",
       "0  PRESIDENT TRUMP Explains New “America First” R...  Fake\n",
       "1  TERMINALLY ILL FORMER MISS WI: “Until my last ...  Fake\n",
       "2   Cruz Humiliated By Moderator After Lie About ...  Fake\n",
       "3  Russia revels in Trump victory, looks to sanct...  Real\n",
       "4  Trump's bid to open U.S. monuments to developm...  Real"
      ]
     },
     "execution_count": 24,
     "metadata": {},
     "output_type": "execute_result"
    }
   ],
   "source": [
    "train_df.head()"
   ]
  },
  {
   "cell_type": "code",
   "execution_count": 26,
   "id": "cd8d1079",
   "metadata": {},
   "outputs": [],
   "source": [
    "def remove_punctuation(text):\n",
    "    translator = str.maketrans('', '', string.punctuation)\n",
    "    return text.translate(translator)"
   ]
  },
  {
   "cell_type": "code",
   "execution_count": 29,
   "id": "973a01ec",
   "metadata": {},
   "outputs": [
    {
     "data": {
      "text/html": [
       "<div>\n",
       "<style scoped>\n",
       "    .dataframe tbody tr th:only-of-type {\n",
       "        vertical-align: middle;\n",
       "    }\n",
       "\n",
       "    .dataframe tbody tr th {\n",
       "        vertical-align: top;\n",
       "    }\n",
       "\n",
       "    .dataframe thead th {\n",
       "        text-align: right;\n",
       "    }\n",
       "</style>\n",
       "<table border=\"1\" class=\"dataframe\">\n",
       "  <thead>\n",
       "    <tr style=\"text-align: right;\">\n",
       "      <th></th>\n",
       "      <th>title</th>\n",
       "      <th>class</th>\n",
       "    </tr>\n",
       "  </thead>\n",
       "  <tbody>\n",
       "    <tr>\n",
       "      <th>0</th>\n",
       "      <td>PRESIDENT TRUMP Explains New “America First” R...</td>\n",
       "      <td>Fake</td>\n",
       "    </tr>\n",
       "    <tr>\n",
       "      <th>1</th>\n",
       "      <td>TERMINALLY ILL FORMER MISS WI “Until my last b...</td>\n",
       "      <td>Fake</td>\n",
       "    </tr>\n",
       "    <tr>\n",
       "      <th>2</th>\n",
       "      <td>Cruz Humiliated By Moderator After Lie About ...</td>\n",
       "      <td>Fake</td>\n",
       "    </tr>\n",
       "    <tr>\n",
       "      <th>3</th>\n",
       "      <td>Russia revels in Trump victory looks to sancti...</td>\n",
       "      <td>Real</td>\n",
       "    </tr>\n",
       "    <tr>\n",
       "      <th>4</th>\n",
       "      <td>Trumps bid to open US monuments to development...</td>\n",
       "      <td>Real</td>\n",
       "    </tr>\n",
       "  </tbody>\n",
       "</table>\n",
       "</div>"
      ],
      "text/plain": [
       "                                               title class\n",
       "0  PRESIDENT TRUMP Explains New “America First” R...  Fake\n",
       "1  TERMINALLY ILL FORMER MISS WI “Until my last b...  Fake\n",
       "2   Cruz Humiliated By Moderator After Lie About ...  Fake\n",
       "3  Russia revels in Trump victory looks to sancti...  Real\n",
       "4  Trumps bid to open US monuments to development...  Real"
      ]
     },
     "execution_count": 29,
     "metadata": {},
     "output_type": "execute_result"
    }
   ],
   "source": [
    "train_df['title'] = train_df['title'].apply(remove_punctuation)\n",
    "train_df.head(5)"
   ]
  },
  {
   "cell_type": "code",
   "execution_count": 32,
   "id": "a09accf7",
   "metadata": {},
   "outputs": [],
   "source": [
    "sw = stopwords.words('english')"
   ]
  },
  {
   "cell_type": "code",
   "execution_count": 33,
   "id": "8c0faa07",
   "metadata": {},
   "outputs": [
    {
     "data": {
      "text/plain": [
       "array(['i', 'me', 'my', 'myself', 'we', 'our', 'ours', 'ourselves', 'you',\n",
       "       \"you're\", \"you've\", \"you'll\", \"you'd\", 'your', 'yours', 'yourself',\n",
       "       'yourselves', 'he', 'him', 'his', 'himself', 'she', \"she's\", 'her',\n",
       "       'hers', 'herself', 'it', \"it's\", 'its', 'itself', 'they', 'them',\n",
       "       'their', 'theirs', 'themselves', 'what', 'which', 'who', 'whom',\n",
       "       'this', 'that', \"that'll\", 'these', 'those', 'am', 'is', 'are',\n",
       "       'was', 'were', 'be', 'been', 'being', 'have', 'has', 'had',\n",
       "       'having', 'do', 'does', 'did', 'doing', 'a', 'an', 'the', 'and',\n",
       "       'but', 'if', 'or', 'because', 'as', 'until', 'while', 'of', 'at',\n",
       "       'by', 'for', 'with', 'about', 'against', 'between', 'into',\n",
       "       'through', 'during', 'before', 'after', 'above', 'below', 'to',\n",
       "       'from', 'up', 'down', 'in', 'out', 'on', 'off', 'over', 'under',\n",
       "       'again', 'further', 'then', 'once', 'here', 'there', 'when',\n",
       "       'where', 'why', 'how', 'all', 'any', 'both', 'each', 'few', 'more',\n",
       "       'most', 'other', 'some', 'such', 'no', 'nor', 'not', 'only', 'own',\n",
       "       'same', 'so', 'than', 'too', 'very', 's', 't', 'can', 'will',\n",
       "       'just', 'don', \"don't\", 'should', \"should've\", 'now', 'd', 'll',\n",
       "       'm', 'o', 're', 've', 'y', 'ain', 'aren', \"aren't\", 'couldn',\n",
       "       \"couldn't\", 'didn', \"didn't\", 'doesn', \"doesn't\", 'hadn', \"hadn't\",\n",
       "       'hasn', \"hasn't\", 'haven', \"haven't\", 'isn', \"isn't\", 'ma',\n",
       "       'mightn', \"mightn't\", 'mustn', \"mustn't\", 'needn', \"needn't\",\n",
       "       'shan', \"shan't\", 'shouldn', \"shouldn't\", 'wasn', \"wasn't\",\n",
       "       'weren', \"weren't\", 'won', \"won't\", 'wouldn', \"wouldn't\"],\n",
       "      dtype='<U10')"
      ]
     },
     "execution_count": 33,
     "metadata": {},
     "output_type": "execute_result"
    }
   ],
   "source": [
    "np.array(sw)"
   ]
  },
  {
   "cell_type": "code",
   "execution_count": 34,
   "id": "ff3e9292",
   "metadata": {},
   "outputs": [],
   "source": [
    "def stopwords(text):\n",
    "    text = [word.lower() for word in text.split() if word.lower() not in sw]\n",
    "    return \" \".join(text)"
   ]
  },
  {
   "cell_type": "code",
   "execution_count": 35,
   "id": "0a04f1ad",
   "metadata": {},
   "outputs": [
    {
     "data": {
      "text/html": [
       "<div>\n",
       "<style scoped>\n",
       "    .dataframe tbody tr th:only-of-type {\n",
       "        vertical-align: middle;\n",
       "    }\n",
       "\n",
       "    .dataframe tbody tr th {\n",
       "        vertical-align: top;\n",
       "    }\n",
       "\n",
       "    .dataframe thead th {\n",
       "        text-align: right;\n",
       "    }\n",
       "</style>\n",
       "<table border=\"1\" class=\"dataframe\">\n",
       "  <thead>\n",
       "    <tr style=\"text-align: right;\">\n",
       "      <th></th>\n",
       "      <th>title</th>\n",
       "      <th>class</th>\n",
       "    </tr>\n",
       "  </thead>\n",
       "  <tbody>\n",
       "    <tr>\n",
       "      <th>0</th>\n",
       "      <td>president trump explains new “america first” r...</td>\n",
       "      <td>Fake</td>\n",
       "    </tr>\n",
       "    <tr>\n",
       "      <th>1</th>\n",
       "      <td>terminally ill former miss wi “until last brea...</td>\n",
       "      <td>Fake</td>\n",
       "    </tr>\n",
       "    <tr>\n",
       "      <th>2</th>\n",
       "      <td>cruz humiliated moderator lie presidents appoi...</td>\n",
       "      <td>Fake</td>\n",
       "    </tr>\n",
       "    <tr>\n",
       "      <th>3</th>\n",
       "      <td>russia revels trump victory looks sanctions re...</td>\n",
       "      <td>Real</td>\n",
       "    </tr>\n",
       "    <tr>\n",
       "      <th>4</th>\n",
       "      <td>trumps bid open us monuments development draws...</td>\n",
       "      <td>Real</td>\n",
       "    </tr>\n",
       "  </tbody>\n",
       "</table>\n",
       "</div>"
      ],
      "text/plain": [
       "                                               title class\n",
       "0  president trump explains new “america first” r...  Fake\n",
       "1  terminally ill former miss wi “until last brea...  Fake\n",
       "2  cruz humiliated moderator lie presidents appoi...  Fake\n",
       "3  russia revels trump victory looks sanctions re...  Real\n",
       "4  trumps bid open us monuments development draws...  Real"
      ]
     },
     "execution_count": 35,
     "metadata": {},
     "output_type": "execute_result"
    }
   ],
   "source": [
    "train_df['title'] = train_df['title'].apply(stopwords)\n",
    "train_df.head(5)"
   ]
  },
  {
   "cell_type": "code",
   "execution_count": 37,
   "id": "9eaa03c8",
   "metadata": {},
   "outputs": [],
   "source": [
    "count_vectorizer = CountVectorizer()\n",
    "count_vectorizer.fit(train_df['title'])\n",
    "dictionary = count_vectorizer.vocabulary_.items()  "
   ]
  },
  {
   "cell_type": "code",
   "execution_count": 38,
   "id": "493e8294",
   "metadata": {},
   "outputs": [],
   "source": [
    "vocab = []\n",
    "count = []\n",
    "for key, value in dictionary:\n",
    "    vocab.append(key)\n",
    "    count.append(value)\n",
    "vocab_bef_stem = pd.Series(count, index=vocab)\n",
    "vocab_bef_stem = vocab_bef_stem.sort_values(ascending=False)"
   ]
  },
  {
   "cell_type": "code",
   "execution_count": 41,
   "id": "bd342a24",
   "metadata": {},
   "outputs": [
    {
     "data": {
      "text/plain": [
       "žižek            22556\n",
       "état             22555\n",
       "zurichs          22554\n",
       "zurich           22553\n",
       "zummar           22552\n",
       "zumas            22551\n",
       "zuma             22550\n",
       "zulia            22549\n",
       "zuckerberg       22548\n",
       "zucker           22547\n",
       "zschaepe         22546\n",
       "zoos             22545\n",
       "zoolander        22544\n",
       "zoo              22543\n",
       "zones            22542\n",
       "zone             22541\n",
       "zombiehillary    22540\n",
       "zombie           22539\n",
       "zohra            22538\n",
       "zoellick         22537\n",
       "dtype: int64"
      ]
     },
     "execution_count": 41,
     "metadata": {},
     "output_type": "execute_result"
    }
   ],
   "source": [
    "vocab_bef_stem.head(20)"
   ]
  },
  {
   "cell_type": "code",
   "execution_count": 42,
   "id": "70c042e8",
   "metadata": {},
   "outputs": [],
   "source": [
    "stemmer = SnowballStemmer(\"english\")\n",
    "\n",
    "def stemming(text):    \n",
    "    text = [stemmer.stem(word) for word in text.split()]\n",
    "    return \" \".join(text) "
   ]
  },
  {
   "cell_type": "code",
   "execution_count": 43,
   "id": "687bb81b",
   "metadata": {},
   "outputs": [
    {
     "data": {
      "text/plain": [
       "0    presid trump explain new “america first” rais ...\n",
       "1    termin ill former miss wi “until last breath u...\n",
       "2    cruz humili moder lie presid appoint justic el...\n",
       "3      russia revel trump victori look sanction relief\n",
       "4    trump bid open us monument develop draw call p...\n",
       "5    unreal here ice releas didn't deport 19723 cri...\n",
       "6    consequ liber toler isi flag hang roof…yet one...\n",
       "7    us news world report publish list top 10 popul...\n",
       "8    trump administr nafta demand make sens union p...\n",
       "9    turk flock social media gold trader sanction case\n",
       "Name: title, dtype: object"
      ]
     },
     "execution_count": 43,
     "metadata": {},
     "output_type": "execute_result"
    }
   ],
   "source": [
    "train_df['title'] = train_df['title'].apply(stemming)\n",
    "train_df['title'].head(10)"
   ]
  },
  {
   "cell_type": "code",
   "execution_count": 47,
   "id": "61a7adaa",
   "metadata": {},
   "outputs": [],
   "source": [
    "tfid_vectorizer = TfidfVectorizer()\n",
    "tfid_vectorizer.fit(train_df['title'])\n",
    "dictionary = tfid_vectorizer.vocabulary_.items()  "
   ]
  },
  {
   "cell_type": "code",
   "execution_count": null,
   "id": "9df553a1",
   "metadata": {},
   "outputs": [],
   "source": []
  }
 ],
 "metadata": {
  "kernelspec": {
   "display_name": "Python 3 (ipykernel)",
   "language": "python",
   "name": "python3"
  },
  "language_info": {
   "codemirror_mode": {
    "name": "ipython",
    "version": 3
   },
   "file_extension": ".py",
   "mimetype": "text/x-python",
   "name": "python",
   "nbconvert_exporter": "python",
   "pygments_lexer": "ipython3",
   "version": "3.8.5"
  }
 },
 "nbformat": 4,
 "nbformat_minor": 5
}
